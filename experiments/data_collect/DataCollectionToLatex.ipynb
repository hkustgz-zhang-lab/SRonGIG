{
 "cells": [
  {
   "cell_type": "markdown",
   "id": "a87e8ee5-7bc2-4f89-a181-7aff3708384b",
   "metadata": {},
   "source": [
    "# Formatting JSON results to Latex table directly\n",
    "\n",
    "This should be easier for data comparison and collecting results directly to paper."
   ]
  },
  {
   "cell_type": "markdown",
   "id": "21d90387-0911-4e59-8cc0-0ef0470e35d6",
   "metadata": {},
   "source": [
    "## Load the corresponding json file from the experiment\n",
    "There are json files generated from each one of the exeperiment file with 'save' interface, these files should be loaded here and be parsed and concatenated.\n",
    "\n",
    "_**Warning**_: \n",
    "Mockturtle collects different version of results on the same experiment, so clear the json file before running.\n",
    "\n",
    "TODO: \n",
    "- [x] Change spaces(column name) and '_'(case name) to '\\_' is for future Latex rendering.\n",
    "- [ ] Automatically get the latest version of the entry of the result.\n",
    "- [ ] Make the function more arbitrary rather than hard code the names.\n",
    "- [ ] Try to give a version with multilevel column names."
   ]
  },
  {
   "cell_type": "code",
   "execution_count": 51,
   "id": "18753e61-7e14-4db2-8221-0c1565824e72",
   "metadata": {},
   "outputs": [
    {
     "name": "stdout",
     "output_type": "stream",
     "text": [
      "     benchmark  nodes\\_num\\_before  num\\_back\\_to\\_aig\n",
      "0        adder                1020                1631\n",
      "1          bar                3336                5114\n",
      "2          div               57247               50489\n",
      "3         log2               32060               40526\n",
      "4          max                2865                3691\n",
      "5   multiplier               27062               51787\n",
      "6          sin                5416                7625\n",
      "7         sqrt               24618               21285\n",
      "8       square               18484               25341\n",
      "9      arbiter               11839               12158\n",
      "10       cavlc                 693                 987\n",
      "11        ctrl                 174                 158\n",
      "12         dec                 304                 508\n",
      "13         i2c                1342                1736\n",
      "14   int2float                 260                 310\n",
      "15   mem\\_ctrl               46836               54773\n",
      "16    priority                 978                 922\n",
      "17      router                 257                 273\n",
      "18       voter               13758               21357\n"
     ]
    },
    {
     "name": "stderr",
     "output_type": "stream",
     "text": [
      "/var/folders/kb/gx09217s19l1l8b8j6s96lgr0000gn/T/ipykernel_66408/3645383181.py:12: SettingWithCopyWarning: \n",
      "A value is trying to be set on a copy of a slice from a DataFrame.\n",
      "Try using .loc[row_indexer,col_indexer] = value instead\n",
      "\n",
      "See the caveats in the documentation: https://pandas.pydata.org/pandas-docs/stable/user_guide/indexing.html#returning-a-view-versus-a-copy\n",
      "  dfOri_filtered['benchmark'] = dfOri_filtered['benchmark'].str.replace('_', '\\_')\n"
     ]
    }
   ],
   "source": [
    "import pandas as pd\n",
    "import json\n",
    "import os\n",
    "home_path = os.path.expanduser('~')\n",
    "\n",
    "with open(home_path + '/Downloads/Github/mockturtle/experiments/reader_loss.json') as f:\n",
    "    dataOri = json.load(f)\n",
    "dfOri = pd.DataFrame(dataOri[0]['entries'])\n",
    "selected_columns = ['benchmark', 'nodes num before', 'num back to aig']\n",
    "dfOri_filtered = dfOri[selected_columns]\n",
    "dfOri_filtered.columns = dfOri_filtered.columns.str.replace(' ', '\\_')\n",
    "dfOri_filtered['benchmark'] = dfOri_filtered['benchmark'].str.replace('_', '\\_')\n",
    "print(dfOri_filtered)"
   ]
  },
  {
   "cell_type": "code",
   "execution_count": 52,
   "id": "6bfb18ef-d792-408a-a309-290d49be1579",
   "metadata": {},
   "outputs": [
    {
     "name": "stdout",
     "output_type": "stream",
     "text": [
      "     benchmark  nodes\\_num\\_before  num\\_back\\_to\\_aig\n",
      "0        adder                1020                1631\n",
      "1          bar                3336                4796\n",
      "2          div               57247               79779\n",
      "3         log2               32060               62536\n",
      "4          max                2865                4576\n",
      "5   multiplier               27062               69042\n",
      "6          sin                5416                9471\n",
      "7         sqrt               24618               35288\n",
      "8       square               18484               33333\n",
      "9      arbiter               11839               12452\n",
      "10       cavlc                 693                 943\n",
      "11        ctrl                 174                 154\n",
      "12         dec                 304                 515\n",
      "13         i2c                1342                1741\n",
      "14   int2float                 260                 314\n",
      "15   mem\\_ctrl               46836               54825\n",
      "16    priority                 978                1272\n",
      "17      router                 257                 278\n",
      "18       voter               13758               20846\n"
     ]
    },
    {
     "name": "stderr",
     "output_type": "stream",
     "text": [
      "/var/folders/kb/gx09217s19l1l8b8j6s96lgr0000gn/T/ipykernel_66408/3932160565.py:7: SettingWithCopyWarning: \n",
      "A value is trying to be set on a copy of a slice from a DataFrame.\n",
      "Try using .loc[row_indexer,col_indexer] = value instead\n",
      "\n",
      "See the caveats in the documentation: https://pandas.pydata.org/pandas-docs/stable/user_guide/indexing.html#returning-a-view-versus-a-copy\n",
      "  dfCur_filtered['benchmark'] = dfCur_filtered['benchmark'].str.replace('_', '\\_')\n"
     ]
    }
   ],
   "source": [
    "with open(home_path + '/Downloads/Github/mockturtle/experiments/reader_partition_data.json') as f:\n",
    "    dataCur = json.load(f)\n",
    "dfCur = pd.DataFrame(dataCur[0]['entries'])\n",
    "selected_columns = ['benchmark', 'nodes num before', 'num back to aig']\n",
    "dfCur_filtered = dfCur[selected_columns]\n",
    "dfCur_filtered.columns = dfCur_filtered.columns.str.replace(' ', '\\_')\n",
    "dfCur_filtered['benchmark'] = dfCur_filtered['benchmark'].str.replace('_', '\\_')\n",
    "print(dfCur_filtered)"
   ]
  },
  {
   "cell_type": "markdown",
   "id": "97119283-57b4-4c26-b0bd-d8b8b65255e2",
   "metadata": {},
   "source": [
    "## Concatenated the table\n",
    "The columns with same names should be side by side for a general view."
   ]
  },
  {
   "cell_type": "code",
   "execution_count": 53,
   "id": "bdcf4dcd-692d-4d02-8023-2c25477113dd",
   "metadata": {},
   "outputs": [
    {
     "name": "stdout",
     "output_type": "stream",
     "text": [
      "   benchmark\\_df1 benchmark\\_df2  nodes\\_num\\_before\\_df1  \\\n",
      "0           adder          adder                     1020   \n",
      "1             bar            bar                     3336   \n",
      "2             div            div                    57247   \n",
      "3            log2           log2                    32060   \n",
      "4             max            max                     2865   \n",
      "5      multiplier     multiplier                    27062   \n",
      "6             sin            sin                     5416   \n",
      "7            sqrt           sqrt                    24618   \n",
      "8          square         square                    18484   \n",
      "9         arbiter        arbiter                    11839   \n",
      "10          cavlc          cavlc                      693   \n",
      "11           ctrl           ctrl                      174   \n",
      "12            dec            dec                      304   \n",
      "13            i2c            i2c                     1342   \n",
      "14      int2float      int2float                      260   \n",
      "15      mem\\_ctrl      mem\\_ctrl                    46836   \n",
      "16       priority       priority                      978   \n",
      "17         router         router                      257   \n",
      "18          voter          voter                    13758   \n",
      "\n",
      "    nodes\\_num\\_before\\_df2  num\\_back\\_to\\_aig\\_df1  num\\_back\\_to\\_aig\\_df2  \n",
      "0                      1020                     1631                     1631  \n",
      "1                      3336                     5114                     4796  \n",
      "2                     57247                    50489                    79779  \n",
      "3                     32060                    40526                    62536  \n",
      "4                      2865                     3691                     4576  \n",
      "5                     27062                    51787                    69042  \n",
      "6                      5416                     7625                     9471  \n",
      "7                     24618                    21285                    35288  \n",
      "8                     18484                    25341                    33333  \n",
      "9                     11839                    12158                    12452  \n",
      "10                      693                      987                      943  \n",
      "11                      174                      158                      154  \n",
      "12                      304                      508                      515  \n",
      "13                     1342                     1736                     1741  \n",
      "14                      260                      310                      314  \n",
      "15                    46836                    54773                    54825  \n",
      "16                      978                      922                     1272  \n",
      "17                      257                      273                      278  \n",
      "18                    13758                    21357                    20846  \n"
     ]
    }
   ],
   "source": [
    "# Step 1: Add suffixes to distinguish columns\n",
    "df1_suffixed = dfOri_filtered.add_suffix('\\_df1')\n",
    "df2_suffixed = dfCur_filtered.add_suffix('\\_df2')\n",
    "\n",
    "# Step 2: Concatenate side by side\n",
    "combined_df = pd.concat([df1_suffixed, df2_suffixed], axis=1)\n",
    "\n",
    "# Step 3: Sort columns to group matching fields\n",
    "# Extract base column names (without suffix)\n",
    "columns_sorted = sorted(\n",
    "    combined_df.columns,\n",
    "    key=lambda x: x.split('\\_')[0]  # Sort by base name (e.g., 'depth before')\n",
    ")\n",
    "\n",
    "# Reorder DataFrame columns\n",
    "combined_df = combined_df[columns_sorted]\n",
    "print(combined_df)"
   ]
  },
  {
   "cell_type": "markdown",
   "id": "8a6b7c43-a093-46d9-975c-d8e48584b925",
   "metadata": {},
   "source": [
    "The check and merge process is important, the check is also necessary, since sometimes we run the experiment only on partical cases or in different order, this will give us a hint. If all are the same, then the column such as **benchmark** or **nodes_num_before** will be automatically merged."
   ]
  },
  {
   "cell_type": "code",
   "execution_count": 54,
   "id": "08762117-56c8-45e0-8f11-8cbabfdcaf50",
   "metadata": {},
   "outputs": [
    {
     "name": "stdout",
     "output_type": "stream",
     "text": [
      "Merging 'benchmark\\_df1' and 'benchmark\\_df2' into 'benchmark'.\n",
      "Merging 'nodes\\_num\\_before\\_df1' and 'nodes\\_num\\_before\\_df2' into 'nodes\\_num\\_before'.\n",
      "\n",
      "Final DataFrame:\n",
      "    nodes\\_num\\_before   benchmark  num\\_back\\_to\\_aig\\_df1  \\\n",
      "0                 1020       adder                     1631   \n",
      "1                 3336         bar                     5114   \n",
      "2                57247         div                    50489   \n",
      "3                32060        log2                    40526   \n",
      "4                 2865         max                     3691   \n",
      "5                27062  multiplier                    51787   \n",
      "6                 5416         sin                     7625   \n",
      "7                24618        sqrt                    21285   \n",
      "8                18484      square                    25341   \n",
      "9                11839     arbiter                    12158   \n",
      "10                 693       cavlc                      987   \n",
      "11                 174        ctrl                      158   \n",
      "12                 304         dec                      508   \n",
      "13                1342         i2c                     1736   \n",
      "14                 260   int2float                      310   \n",
      "15               46836   mem\\_ctrl                    54773   \n",
      "16                 978    priority                      922   \n",
      "17                 257      router                      273   \n",
      "18               13758       voter                    21357   \n",
      "\n",
      "    num\\_back\\_to\\_aig\\_df2  \n",
      "0                      1631  \n",
      "1                      4796  \n",
      "2                     79779  \n",
      "3                     62536  \n",
      "4                      4576  \n",
      "5                     69042  \n",
      "6                      9471  \n",
      "7                     35288  \n",
      "8                     33333  \n",
      "9                     12452  \n",
      "10                      943  \n",
      "11                      154  \n",
      "12                      515  \n",
      "13                     1741  \n",
      "14                      314  \n",
      "15                    54825  \n",
      "16                     1272  \n",
      "17                      278  \n",
      "18                    20846  \n"
     ]
    }
   ],
   "source": [
    "column_pairs = [\n",
    "    ('benchmark\\_df1', 'benchmark\\_df2', 'benchmark'),\n",
    "    ('nodes\\_num\\_before\\_df1', 'nodes\\_num\\_before\\_df2', 'nodes\\_num\\_before')\n",
    "]\n",
    "\n",
    "for col1, col2, new_name in column_pairs:\n",
    "    if col1 in combined_df.columns and col2 in combined_df.columns:  # Check if columns exist\n",
    "        if combined_df[col1].equals(combined_df[col2]):\n",
    "            print(f\"Merging '{col1}' and '{col2}' into '{new_name}'.\")\n",
    "            merged_col = combined_df[col1]\n",
    "            combined_df = combined_df.drop([col1, col2], axis=1)\n",
    "            # if new_name != 'nodes_num_before':\n",
    "            combined_df.insert(0, new_name, merged_col)\n",
    "        else:\n",
    "            print(f\"'{col1}' and '{col2}' are different. Keeping both.\")\n",
    "    else:\n",
    "        print(f\"Columns '{col1}' or '{col2}' not found. Skipping.\")\n",
    "print(\"\\nFinal DataFrame:\")\n",
    "print(combined_df)"
   ]
  },
  {
   "cell_type": "code",
   "execution_count": 55,
   "id": "d059c099-8c2d-4629-8d0d-66f8bebf3511",
   "metadata": {},
   "outputs": [
    {
     "name": "stdout",
     "output_type": "stream",
     "text": [
      "     benchmark  nodes\\_num\\_before  num\\_back\\_to\\_aig\\_df1  \\\n",
      "0        adder                1020                     1631   \n",
      "1          bar                3336                     5114   \n",
      "2          div               57247                    50489   \n",
      "3         log2               32060                    40526   \n",
      "4          max                2865                     3691   \n",
      "5   multiplier               27062                    51787   \n",
      "6          sin                5416                     7625   \n",
      "7         sqrt               24618                    21285   \n",
      "8       square               18484                    25341   \n",
      "9      arbiter               11839                    12158   \n",
      "10       cavlc                 693                      987   \n",
      "11        ctrl                 174                      158   \n",
      "12         dec                 304                      508   \n",
      "13         i2c                1342                     1736   \n",
      "14   int2float                 260                      310   \n",
      "15   mem\\_ctrl               46836                    54773   \n",
      "16    priority                 978                      922   \n",
      "17      router                 257                      273   \n",
      "18       voter               13758                    21357   \n",
      "\n",
      "    num\\_back\\_to\\_aig\\_df2  \n",
      "0                      1631  \n",
      "1                      4796  \n",
      "2                     79779  \n",
      "3                     62536  \n",
      "4                      4576  \n",
      "5                     69042  \n",
      "6                      9471  \n",
      "7                     35288  \n",
      "8                     33333  \n",
      "9                     12452  \n",
      "10                      943  \n",
      "11                      154  \n",
      "12                      515  \n",
      "13                     1741  \n",
      "14                      314  \n",
      "15                    54825  \n",
      "16                     1272  \n",
      "17                      278  \n",
      "18                    20846  \n"
     ]
    }
   ],
   "source": [
    "def swap_columns(df, col1, col2):\n",
    "    columns = df.columns.tolist()\n",
    "    idx1, idx2 = columns.index(col1), columns.index(col2)\n",
    "    columns[idx1], columns[idx2] = columns[idx2], columns[idx1]\n",
    "    return df[columns]\n",
    "\n",
    "# Swap 'A' and 'B'\n",
    "df_final = swap_columns(combined_df, 'benchmark', 'nodes\\_num\\_before')\n",
    "print(df_final)"
   ]
  },
  {
   "cell_type": "code",
   "execution_count": 56,
   "id": "95122afc-cd7b-4b85-b574-44ecb7e8d1fe",
   "metadata": {},
   "outputs": [
    {
     "name": "stdout",
     "output_type": "stream",
     "text": [
      "\\begin{tabular}{lrrr}\n",
      "\\toprule\n",
      "benchmark & nodes\\_num\\_before & num\\_back\\_to\\_aig\\_df1 & num\\_back\\_to\\_aig\\_df2 \\\\\n",
      "\\midrule\n",
      "adder & 1020 & 1631 & 1631 \\\\\n",
      "bar & 3336 & 5114 & 4796 \\\\\n",
      "div & 57247 & 50489 & 79779 \\\\\n",
      "log2 & 32060 & 40526 & 62536 \\\\\n",
      "max & 2865 & 3691 & 4576 \\\\\n",
      "multiplier & 27062 & 51787 & 69042 \\\\\n",
      "sin & 5416 & 7625 & 9471 \\\\\n",
      "sqrt & 24618 & 21285 & 35288 \\\\\n",
      "square & 18484 & 25341 & 33333 \\\\\n",
      "arbiter & 11839 & 12158 & 12452 \\\\\n",
      "cavlc & 693 & 987 & 943 \\\\\n",
      "ctrl & 174 & 158 & 154 \\\\\n",
      "dec & 304 & 508 & 515 \\\\\n",
      "i2c & 1342 & 1736 & 1741 \\\\\n",
      "int2float & 260 & 310 & 314 \\\\\n",
      "mem\\_ctrl & 46836 & 54773 & 54825 \\\\\n",
      "priority & 978 & 922 & 1272 \\\\\n",
      "router & 257 & 273 & 278 \\\\\n",
      "voter & 13758 & 21357 & 20846 \\\\\n",
      "\\bottomrule\n",
      "\\end{tabular}\n",
      "\n"
     ]
    }
   ],
   "source": [
    "latex_table = df_final.to_latex(index=False)  # Remove index column\n",
    "print(latex_table)"
   ]
  },
  {
   "cell_type": "markdown",
   "id": "fbc506cc-da1d-4b6f-9ac2-cc25f7e956d7",
   "metadata": {},
   "source": [
    "## Color the table\n",
    "Color the cells will make the results much more easier to compare."
   ]
  },
  {
   "cell_type": "code",
   "execution_count": 57,
   "id": "01b02269-2016-4ebe-953d-c84886caaeb2",
   "metadata": {},
   "outputs": [
    {
     "name": "stdout",
     "output_type": "stream",
     "text": [
      "\\begin{tabular}{cccc}\n",
      "\\toprule\n",
      "benchmark & nodes\\_num\\_before & num\\_back\\_to\\_aig\\_df1 & num\\_back\\_to\\_aig\\_df2 \\\\\n",
      "\\midrule\n",
      "adder & 1020 & 1631 & 1631 \\\\\n",
      "bar & 3336 & 5114 & \\cellcolor{green!25}4796 \\\\\n",
      "div & 57247 & \\cellcolor{red!25}50489 & 79779 \\\\\n",
      "log2 & 32060 & \\cellcolor{red!25}40526 & 62536 \\\\\n",
      "max & 2865 & \\cellcolor{red!25}3691 & 4576 \\\\\n",
      "multiplier & 27062 & \\cellcolor{red!25}51787 & 69042 \\\\\n",
      "sin & 5416 & \\cellcolor{red!25}7625 & 9471 \\\\\n",
      "sqrt & 24618 & \\cellcolor{red!25}21285 & 35288 \\\\\n",
      "square & 18484 & \\cellcolor{red!25}25341 & 33333 \\\\\n",
      "arbiter & 11839 & \\cellcolor{red!25}12158 & 12452 \\\\\n",
      "cavlc & 693 & 987 & \\cellcolor{green!25}943 \\\\\n",
      "ctrl & 174 & 158 & \\cellcolor{green!25}154 \\\\\n",
      "dec & 304 & \\cellcolor{red!25}508 & 515 \\\\\n",
      "i2c & 1342 & \\cellcolor{red!25}1736 & 1741 \\\\\n",
      "int2float & 260 & \\cellcolor{red!25}310 & 314 \\\\\n",
      "mem\\_ctrl & 46836 & \\cellcolor{red!25}54773 & 54825 \\\\\n",
      "priority & 978 & \\cellcolor{red!25}922 & 1272 \\\\\n",
      "router & 257 & \\cellcolor{red!25}273 & 278 \\\\\n",
      "voter & 13758 & 21357 & \\cellcolor{green!25}20846 \\\\\n",
      "\\bottomrule\n",
      "\\end{tabular}\n",
      "\n"
     ]
    }
   ],
   "source": [
    "def highlight_larger(row):\n",
    "    \"\"\"\n",
    "    Returns LaTeX formatting for cells where the value is larger\n",
    "    in the comparison between Column A and Column B\n",
    "    \"\"\"\n",
    "    a = row['num\\_back\\_to\\_aig\\_df1']\n",
    "    b = row['num\\_back\\_to\\_aig\\_df2']\n",
    "    \n",
    "    if a > b:\n",
    "        return ['', f'\\\\cellcolor{{green!25}}']\n",
    "    elif b > a:\n",
    "        return [f'\\\\cellcolor{{red!25}}', '']\n",
    "    else:\n",
    "        return ['', '']\n",
    "\n",
    "# Apply the highlighting\n",
    "formatted_cells = df_final.apply(highlight_larger, axis=1, result_type='expand')\n",
    "formatted_cells.columns = ['num\\_back\\_to\\_aig\\_df1', 'num\\_back\\_to\\_aig\\_df2']\n",
    "\n",
    "# Combine with original values\n",
    "for col in ['num\\_back\\_to\\_aig\\_df1', 'num\\_back\\_to\\_aig\\_df2']:\n",
    "    df_final[col] = formatted_cells[col] + df_final[col].astype(str)\n",
    "\n",
    "# Generate LaTeX\n",
    "latex_code = df_final.to_latex(\n",
    "    index=False,\n",
    "    escape=False,  # Important: allows LaTeX commands\n",
    "    column_format='cccc'  # Adjust as needed\n",
    ")\n",
    "\n",
    "print(latex_code)"
   ]
  }
 ],
 "metadata": {
  "kernelspec": {
   "display_name": "Python 3 (ipykernel)",
   "language": "python",
   "name": "python3"
  },
  "language_info": {
   "codemirror_mode": {
    "name": "ipython",
    "version": 3
   },
   "file_extension": ".py",
   "mimetype": "text/x-python",
   "name": "python",
   "nbconvert_exporter": "python",
   "pygments_lexer": "ipython3",
   "version": "3.9.6"
  }
 },
 "nbformat": 4,
 "nbformat_minor": 5
}
